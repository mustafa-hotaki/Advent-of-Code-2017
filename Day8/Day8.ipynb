{
  "nbformat": 4,
  "nbformat_minor": 0,
  "metadata": {
    "colab": {
      "name": "Day8.ipynb",
      "provenance": [],
      "collapsed_sections": [],
      "toc_visible": true
    },
    "kernelspec": {
      "name": "python3",
      "display_name": "Python 3"
    }
  },
  "cells": [
    {
      "cell_type": "markdown",
      "metadata": {
        "id": "71ecngOdHt9R"
      },
      "source": [
        "# Advent of Code 2017 - Day 8"
      ]
    },
    {
      "cell_type": "code",
      "metadata": {
        "colab": {
          "base_uri": "https://localhost:8080/"
        },
        "id": "X62Yg2r5dzAf",
        "outputId": "b80c62d8-6c09-4b56-abdd-a03154dba06d"
      },
      "source": [
        "data = []\r\n",
        "with open('inputs_day_8.txt', 'r') as f:\r\n",
        "  for line in f:\r\n",
        "    data.append(line.strip())\r\n",
        "\r\n",
        "print(data[:10])"
      ],
      "execution_count": 1,
      "outputs": [
        {
          "output_type": "stream",
          "text": [
            "['g dec 231 if bfx > -10', 'k dec -567 if wfk == 0', 'jq inc 880 if a < 2', 'sh inc -828 if nkr < -5', 'w inc 595 if nkr > -10', 't dec 737 if bfx < 5', 'ghj dec -693 if pr == 0', 'yo inc -362 if t == -741', 'pr inc -851 if g <= -228', 'lpi inc 628 if lpi <= 0']\n"
          ],
          "name": "stdout"
        }
      ]
    },
    {
      "cell_type": "code",
      "metadata": {
        "colab": {
          "base_uri": "https://localhost:8080/"
        },
        "id": "mTBbdKWNcLr3",
        "outputId": "acd0ca91-561d-4724-ae0b-8fbb4709d904"
      },
      "source": [
        "# Parse\r\n",
        "register_names = set()\r\n",
        "instructions = []\r\n",
        "for x in data:\r\n",
        "  broken = x.split(' ')\r\n",
        "  register = broken[0]\r\n",
        "  op = broken[1]\r\n",
        "  amt = int(broken[2])\r\n",
        "  condition_register = broken[4]\r\n",
        "  condition_op = broken[5]\r\n",
        "  condition_value = int(broken[6])\r\n",
        "  register_names.add(register)\r\n",
        "  register_names.add(condition_register)\r\n",
        "  instruction = (register, op, amt, condition_register, condition_op, condition_value)\r\n",
        "\r\n",
        "  instructions.append(instruction)\r\n",
        "\r\n",
        "instructions[:5]"
      ],
      "execution_count": 2,
      "outputs": [
        {
          "output_type": "execute_result",
          "data": {
            "text/plain": [
              "[('g', 'dec', 231, 'bfx', '>', -10),\n",
              " ('k', 'dec', -567, 'wfk', '==', 0),\n",
              " ('jq', 'inc', 880, 'a', '<', 2),\n",
              " ('sh', 'inc', -828, 'nkr', '<', -5),\n",
              " ('w', 'inc', 595, 'nkr', '>', -10)]"
            ]
          },
          "metadata": {
            "tags": []
          },
          "execution_count": 2
        }
      ]
    },
    {
      "cell_type": "markdown",
      "metadata": {
        "id": "mp3jZah5GjBK"
      },
      "source": [
        "## Part 1 and Part 2\r\n"
      ]
    },
    {
      "cell_type": "code",
      "metadata": {
        "colab": {
          "base_uri": "https://localhost:8080/"
        },
        "id": "DzghyFrpdndc",
        "outputId": "8d8f7265-c9a2-44b0-c111-47cfcea79a6c"
      },
      "source": [
        "registers = {r : 0 for r in register_names}\r\n",
        "maximum_in_flight = 0\r\n",
        "for register, op, amt, condition_register, condition_op, condition_value in instructions:\r\n",
        "\r\n",
        "  condition = str(registers[condition_register]) + ' ' + condition_op + ' ' + str(condition_value)\r\n",
        "  if eval(condition): # Generally dangerous as it allows for code injection\r\n",
        "    if op == 'inc':\r\n",
        "      registers[register] += amt\r\n",
        "    elif op == 'dec':\r\n",
        "      registers[register] -= amt\r\n",
        "    else:\r\n",
        "      print('Oops. Something went wrong.')\r\n",
        "      break\r\n",
        "\r\n",
        "  if registers[register] > maximum_in_flight:\r\n",
        "    maximum_in_flight = registers[register]\r\n",
        "\r\n",
        "max(registers.values()), maximum_in_flight"
      ],
      "execution_count": 3,
      "outputs": [
        {
          "output_type": "execute_result",
          "data": {
            "text/plain": [
              "(4163, 5347)"
            ]
          },
          "metadata": {
            "tags": []
          },
          "execution_count": 3
        }
      ]
    }
  ]
}