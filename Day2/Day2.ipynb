{
  "nbformat": 4,
  "nbformat_minor": 0,
  "metadata": {
    "colab": {
      "name": "Day2.ipynb",
      "provenance": [],
      "collapsed_sections": [],
      "toc_visible": true
    },
    "kernelspec": {
      "name": "python3",
      "display_name": "Python 3"
    }
  },
  "cells": [
    {
      "cell_type": "markdown",
      "metadata": {
        "id": "71ecngOdHt9R"
      },
      "source": [
        "# Advent of Code 2017 - Day 2"
      ]
    },
    {
      "cell_type": "code",
      "metadata": {
        "id": "utKE9zeiHuMC"
      },
      "source": [
        "data = []\r\n",
        "with open('inputs_day_2.txt', 'r') as f:\r\n",
        "  for line in f:\r\n",
        "    data.append(line.strip())"
      ],
      "execution_count": null,
      "outputs": []
    },
    {
      "cell_type": "code",
      "metadata": {
        "colab": {
          "base_uri": "https://localhost:8080/"
        },
        "id": "bPzMJpr6_OpW",
        "outputId": "98669c0f-8885-4f9e-a121-4dd2a1117f98"
      },
      "source": [
        "spreadsheet = []\r\n",
        "for line in data:\r\n",
        "  spreadsheet.append([int(x) for x in line.split('\\t')])\r\n",
        "\r\n",
        "print(spreadsheet)"
      ],
      "execution_count": null,
      "outputs": [
        {
          "output_type": "stream",
          "text": [
            "[[737, 1866, 1565, 1452, 1908, 1874, 232, 1928, 201, 241, 922, 281, 1651, 1740, 1012, 1001], [339, 581, 41, 127, 331, 133, 51, 131, 129, 95, 499, 527, 518, 435, 508, 494], [1014, 575, 1166, 259, 152, 631, 1152, 1010, 182, 943, 163, 158, 1037, 1108, 1092, 887], [56, 491, 409, 1263, 1535, 41, 1431, 1207, 1393, 700, 1133, 53, 131, 466, 202, 62], [632, 403, 118, 352, 253, 672, 711, 135, 116, 665, 724, 780, 159, 133, 90, 100], [1580, 85, 1786, 1613, 1479, 100, 94, 1856, 546, 76, 1687, 1769, 1284, 1422, 1909, 1548], [479, 356, 122, 372, 786, 1853, 979, 116, 530, 123, 1751, 887, 109, 1997, 160, 1960], [446, 771, 72, 728, 109, 369, 300, 746, 86, 910, 566, 792, 616, 84, 338, 57], [6599, 2182, 200, 2097, 4146, 7155, 7018, 1815, 1173, 4695, 201, 7808, 242, 3627, 222, 7266], [1729, 600, 651, 165, 1780, 2160, 626, 1215, 149, 179, 1937, 1423, 156, 129, 634, 458], [1378, 121, 146, 437, 1925, 2692, 130, 557, 2374, 2538, 2920, 2791, 156, 317, 139, 541], [1631, 176, 1947, 259, 2014, 153, 268, 752, 2255, 347, 227, 2270, 2278, 544, 2379, 349], [184, 314, 178, 242, 145, 410, 257, 342, 183, 106, 302, 320, 288, 151, 449, 127], [175, 5396, 1852, 4565, 4775, 665, 4227, 171, 4887, 181, 2098, 4408, 2211, 3884, 2482, 158], [1717, 3629, 244, 258, 281, 3635, 235, 4148, 3723, 4272, 3589, 4557, 4334, 4145, 3117, 4510], [55, 258, 363, 116, 319, 49, 212, 44, 303, 349, 327, 330, 316, 297, 313, 67]]\n"
          ],
          "name": "stdout"
        }
      ]
    },
    {
      "cell_type": "markdown",
      "metadata": {
        "id": "mp3jZah5GjBK"
      },
      "source": [
        "## Part 1\r\n"
      ]
    },
    {
      "cell_type": "code",
      "metadata": {
        "colab": {
          "base_uri": "https://localhost:8080/"
        },
        "id": "ay2QkRsw_CPk",
        "outputId": "3f6479aa-b6b8-4cc1-a6aa-835ba9a1e517"
      },
      "source": [
        "sum([max(row) - min(row) for row in spreadsheet])"
      ],
      "execution_count": null,
      "outputs": [
        {
          "output_type": "execute_result",
          "data": {
            "text/plain": [
              "34925"
            ]
          },
          "metadata": {
            "tags": []
          },
          "execution_count": 3
        }
      ]
    },
    {
      "cell_type": "markdown",
      "metadata": {
        "id": "xRTNxjTfG5P4"
      },
      "source": [
        "## Part 2"
      ]
    },
    {
      "cell_type": "code",
      "metadata": {
        "id": "QVs8zzY2Lgpz",
        "colab": {
          "base_uri": "https://localhost:8080/"
        },
        "outputId": "408aada8-1229-46d9-d9ba-119158c48418"
      },
      "source": [
        "from itertools import permutations\r\n",
        "\r\n",
        "sum_evenly_divisible = 0\r\n",
        "for row in spreadsheet:\r\n",
        "  perms = permutations(row, 2) # Grab all possible pairs of numbers\r\n",
        "  for perm in perms:\r\n",
        "    if perm[0] % perm[1] == 0: \r\n",
        "      sum_evenly_divisible += int(perm[0] / perm[1])\r\n",
        "      break # Problem gurantees 1 pair per row that satisifies this condition\r\n",
        "\r\n",
        "sum_evenly_divisible"
      ],
      "execution_count": null,
      "outputs": [
        {
          "output_type": "execute_result",
          "data": {
            "text/plain": [
              "221"
            ]
          },
          "metadata": {
            "tags": []
          },
          "execution_count": 4
        }
      ]
    },
    {
      "cell_type": "code",
      "metadata": {
        "id": "k4YkXneVAvV7"
      },
      "source": [
        ""
      ],
      "execution_count": null,
      "outputs": []
    }
  ]
}