{
  "nbformat": 4,
  "nbformat_minor": 0,
  "metadata": {
    "colab": {
      "name": "Day10.ipynb",
      "provenance": [],
      "collapsed_sections": []
    },
    "kernelspec": {
      "name": "python3",
      "display_name": "Python 3"
    }
  },
  "cells": [
    {
      "cell_type": "markdown",
      "metadata": {
        "id": "71ecngOdHt9R"
      },
      "source": [
        "# Advent of Code 2017 - Day 10"
      ]
    },
    {
      "cell_type": "code",
      "metadata": {
        "colab": {
          "base_uri": "https://localhost:8080/"
        },
        "id": "X62Yg2r5dzAf",
        "outputId": "05ac1bfb-51ec-45f2-fceb-47bd9aa793ad"
      },
      "source": [
        "data = []\r\n",
        "with open('inputs_day_10.txt', 'r') as f:\r\n",
        "  for line in f:\r\n",
        "    data.append(line.strip())\r\n",
        "\r\n",
        "print(data[:])"
      ],
      "execution_count": 1,
      "outputs": [
        {
          "output_type": "stream",
          "text": [
            "['31,2,85,1,80,109,35,63,98,255,0,13,105,254,128,33']\n"
          ],
          "name": "stdout"
        }
      ]
    },
    {
      "cell_type": "markdown",
      "metadata": {
        "id": "R50e0VX0PcRL"
      },
      "source": [
        "## Part 1\r\n",
        "\r\n",
        "The problem lends itself to using a circular doubly linked list, but I find reversing a list/array of numbers far easier in Python."
      ]
    },
    {
      "cell_type": "code",
      "metadata": {
        "colab": {
          "base_uri": "https://localhost:8080/"
        },
        "id": "8_NqK48pQAmp",
        "outputId": "c3c2c71c-8204-49f5-c6f0-f0667c4adde8"
      },
      "source": [
        "lengths = [int(x) for x in data[0].split(',')]\r\n",
        "values = [i for i in range(256)]\r\n",
        "\r\n",
        "index = 0\r\n",
        "skip = 0\r\n",
        "for length in lengths:\r\n",
        "\r\n",
        "  # This knotting could probably be made more efficient by finding a mathematical relationship between original and new indexes \r\n",
        "  # rather than grabbing, reversing, and rewriting\r\n",
        "  # but it requires thinking, which I don't wanna do right now \r\n",
        "  grabbed = [values[i % len(values)] for i in range(index, index + length)]\r\n",
        "  l = 0\r\n",
        "  for i in range(index, index + length):\r\n",
        "    values[i % len(values)] = grabbed[::-1][l]\r\n",
        "    l += 1\r\n",
        "\r\n",
        "  index += length + skip\r\n",
        "  index = index % len(values)\r\n",
        "  skip += 1\r\n",
        "\r\n",
        "values[0] * values[1]"
      ],
      "execution_count": 3,
      "outputs": [
        {
          "output_type": "execute_result",
          "data": {
            "text/plain": [
              "6952"
            ]
          },
          "metadata": {
            "tags": []
          },
          "execution_count": 3
        }
      ]
    },
    {
      "cell_type": "markdown",
      "metadata": {
        "id": "dgbIg56pnrPe"
      },
      "source": [
        "## Part 2"
      ]
    },
    {
      "cell_type": "code",
      "metadata": {
        "colab": {
          "base_uri": "https://localhost:8080/"
        },
        "id": "M4d0aPUFmIwz",
        "outputId": "98f71de7-9a07-4fdd-9c7a-7529e9668533"
      },
      "source": [
        "input = data[0]\r\n",
        "suffix  = [17, 31, 73, 47, 23]\r\n",
        "new_lengths = [ord(str(i)) for i in input] + suffix \r\n",
        "print(new_lengths)"
      ],
      "execution_count": 4,
      "outputs": [
        {
          "output_type": "stream",
          "text": [
            "[51, 49, 44, 50, 44, 56, 53, 44, 49, 44, 56, 48, 44, 49, 48, 57, 44, 51, 53, 44, 54, 51, 44, 57, 56, 44, 50, 53, 53, 44, 48, 44, 49, 51, 44, 49, 48, 53, 44, 50, 53, 52, 44, 49, 50, 56, 44, 51, 51, 17, 31, 73, 47, 23]\n"
          ],
          "name": "stdout"
        }
      ]
    },
    {
      "cell_type": "code",
      "metadata": {
        "colab": {
          "base_uri": "https://localhost:8080/",
          "height": 35
        },
        "id": "C2MJYNDkmjbV",
        "outputId": "fa125ad4-970e-49cf-cb1e-c715ad32efff"
      },
      "source": [
        "values = [i for i in range(256)]\r\n",
        "\r\n",
        "index = 0\r\n",
        "skip = 0\r\n",
        "\r\n",
        "for i in range(64):\r\n",
        "\r\n",
        "  for length in new_lengths:\r\n",
        "    \r\n",
        "    grabbed = [values[i % len(values)] for i in range(index, index + length)]\r\n",
        "\r\n",
        "    l = 0\r\n",
        "    for i in range(index, index + length):\r\n",
        "      values[i % len(values)] = grabbed[::-1][l]\r\n",
        "      l += 1\r\n",
        "\r\n",
        "    index += length + skip\r\n",
        "    index = index % len(values)\r\n",
        "    skip += 1\r\n",
        "\r\n",
        "# Apply XOR\r\n",
        "from functools import reduce\r\n",
        "\r\n",
        "def xor(lst):\r\n",
        "  return reduce(lambda x, y: x ^ y, lst)\r\n",
        "\r\n",
        "dense_hash = []\r\n",
        "for i in range(16):\r\n",
        "  dense_hash.append(xor(values[i * 16 : i * 16 + 16]))\r\n",
        "\r\n",
        "# Convert to Hex (assume values are between 0 and 255, as they should be)\r\n",
        "hex_hash = ''.join(['0' * (len(hex(x)[2:]) == 1) + hex(x)[2:] for x in dense_hash]) # hacky, but it works\r\n",
        "hex_hash"
      ],
      "execution_count": 5,
      "outputs": [
        {
          "output_type": "execute_result",
          "data": {
            "application/vnd.google.colaboratory.intrinsic+json": {
              "type": "string"
            },
            "text/plain": [
              "'28e7c4360520718a5dc811d3942cf1fd'"
            ]
          },
          "metadata": {
            "tags": []
          },
          "execution_count": 5
        }
      ]
    }
  ]
}