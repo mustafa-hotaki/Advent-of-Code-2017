{
  "nbformat": 4,
  "nbformat_minor": 0,
  "metadata": {
    "colab": {
      "name": "Day4.ipynb",
      "provenance": [],
      "collapsed_sections": [],
      "toc_visible": true
    },
    "kernelspec": {
      "name": "python3",
      "display_name": "Python 3"
    }
  },
  "cells": [
    {
      "cell_type": "markdown",
      "metadata": {
        "id": "71ecngOdHt9R"
      },
      "source": [
        "# Advent of Code 2017 - Day 4"
      ]
    },
    {
      "cell_type": "code",
      "metadata": {
        "id": "utKE9zeiHuMC",
        "colab": {
          "base_uri": "https://localhost:8080/"
        },
        "outputId": "17778df4-0adf-4251-eb72-cf3c04be84cd"
      },
      "source": [
        "data = []\r\n",
        "with open('inputs_day_4.txt', 'r') as f:\r\n",
        "  for line in f:\r\n",
        "    data.append(line.strip().split(' '))\r\n",
        "\r\n",
        "print(data[:2])"
      ],
      "execution_count": null,
      "outputs": [
        {
          "output_type": "stream",
          "text": [
            "[['kvvfl', 'kvvfl', 'olud', 'wjqsqa', 'olud', 'frc'], ['slhm', 'rdfm', 'yxb', 'rsobyt', 'rdfm']]\n"
          ],
          "name": "stdout"
        }
      ]
    },
    {
      "cell_type": "markdown",
      "metadata": {
        "id": "mp3jZah5GjBK"
      },
      "source": [
        "## Part 1\r\n"
      ]
    },
    {
      "cell_type": "code",
      "metadata": {
        "colab": {
          "base_uri": "https://localhost:8080/"
        },
        "id": "f_IHjkFpMIxm",
        "outputId": "e41d9474-1270-46c0-f7f2-03f7b149a5b9"
      },
      "source": [
        "sum([len(set(password)) == len(password) for password in data])"
      ],
      "execution_count": null,
      "outputs": [
        {
          "output_type": "execute_result",
          "data": {
            "text/plain": [
              "337"
            ]
          },
          "metadata": {
            "tags": []
          },
          "execution_count": 2
        }
      ]
    },
    {
      "cell_type": "markdown",
      "metadata": {
        "id": "xRTNxjTfG5P4"
      },
      "source": [
        "## Part 2"
      ]
    },
    {
      "cell_type": "code",
      "metadata": {
        "colab": {
          "base_uri": "https://localhost:8080/"
        },
        "id": "QPeQ-cBvNBot",
        "outputId": "850dc8bb-e9db-4d1d-bcb7-fa17bd68866b"
      },
      "source": [
        "from itertools import combinations\r\n",
        "\r\n",
        "invalid_counter = 0\r\n",
        "\r\n",
        "for password in data:\r\n",
        "  for c in combinations(password, 2): # No need to generate all actual anagrams\r\n",
        "    if set(c[0]) == set(c[1]): # Just check if they have the same characters\r\n",
        "      invalid_counter += 1\r\n",
        "      break\r\n",
        "\r\n",
        "len(data) - invalid_counter"
      ],
      "execution_count": null,
      "outputs": [
        {
          "output_type": "execute_result",
          "data": {
            "text/plain": [
              "231"
            ]
          },
          "metadata": {
            "tags": []
          },
          "execution_count": 3
        }
      ]
    },
    {
      "cell_type": "code",
      "metadata": {
        "id": "iPbvWlYYPfMo"
      },
      "source": [
        ""
      ],
      "execution_count": null,
      "outputs": []
    }
  ]
}