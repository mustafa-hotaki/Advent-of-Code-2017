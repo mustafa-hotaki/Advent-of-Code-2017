{
  "nbformat": 4,
  "nbformat_minor": 0,
  "metadata": {
    "colab": {
      "name": "Day1.ipynb",
      "provenance": [],
      "collapsed_sections": [],
      "toc_visible": true
    },
    "kernelspec": {
      "name": "python3",
      "display_name": "Python 3"
    }
  },
  "cells": [
    {
      "cell_type": "markdown",
      "metadata": {
        "id": "71ecngOdHt9R"
      },
      "source": [
        "# Advent of Code 2017 - Day 1"
      ]
    },
    {
      "cell_type": "code",
      "metadata": {
        "id": "utKE9zeiHuMC"
      },
      "source": [
        "data = []\r\n",
        "with open('inputs_day_1.txt', 'r') as f:\r\n",
        "  for line in f:\r\n",
        "    data.append(line.strip())"
      ],
      "execution_count": null,
      "outputs": []
    },
    {
      "cell_type": "markdown",
      "metadata": {
        "id": "mp3jZah5GjBK"
      },
      "source": [
        "## Part 1\r\n"
      ]
    },
    {
      "cell_type": "code",
      "metadata": {
        "colab": {
          "base_uri": "https://localhost:8080/"
        },
        "id": "lffQ-Q58H3rG",
        "outputId": "f5605584-6874-4da9-c9fa-eda9e8c826d2"
      },
      "source": [
        "number_string = data[0]\r\n",
        "sum_match = 0\r\n",
        "for i, num in enumerate(number_string):\r\n",
        "  if num == number_string[(i + 1) % len(number_string)]:\r\n",
        "    sum_match += int(num)\r\n",
        "sum_match"
      ],
      "execution_count": null,
      "outputs": [
        {
          "output_type": "execute_result",
          "data": {
            "text/plain": [
              "997"
            ]
          },
          "metadata": {
            "tags": []
          },
          "execution_count": 30
        }
      ]
    },
    {
      "cell_type": "code",
      "metadata": {
        "colab": {
          "base_uri": "https://localhost:8080/"
        },
        "id": "Wya8X3tPLK-5",
        "outputId": "523e4440-1260-4f1d-fea2-9a9a42f6d426"
      },
      "source": [
        "# Or compact 1-line\r\n",
        "sum([int(num) for i, num in enumerate(number_string) if num == number_string[(i + 1) % len(number_string)]])"
      ],
      "execution_count": null,
      "outputs": [
        {
          "output_type": "execute_result",
          "data": {
            "text/plain": [
              "997"
            ]
          },
          "metadata": {
            "tags": []
          },
          "execution_count": 33
        }
      ]
    },
    {
      "cell_type": "markdown",
      "metadata": {
        "id": "xRTNxjTfG5P4"
      },
      "source": [
        "## Part 2"
      ]
    },
    {
      "cell_type": "code",
      "metadata": {
        "colab": {
          "base_uri": "https://localhost:8080/"
        },
        "id": "fOGGPtl2HFcq",
        "outputId": "255746d2-02b3-44ec-aac7-74e9cc481ade"
      },
      "source": [
        "number_string = data[0]\r\n",
        "sum_match = 0\r\n",
        "for i, num in enumerate(number_string):\r\n",
        "  if num == number_string[(i + int(len(number_string)/2)) % len(number_string)]:\r\n",
        "    sum_match += int(num)\r\n",
        "sum_match"
      ],
      "execution_count": null,
      "outputs": [
        {
          "output_type": "execute_result",
          "data": {
            "text/plain": [
              "1358"
            ]
          },
          "metadata": {
            "tags": []
          },
          "execution_count": 31
        }
      ]
    },
    {
      "cell_type": "code",
      "metadata": {
        "colab": {
          "base_uri": "https://localhost:8080/"
        },
        "id": "6ntttBKdJhMW",
        "outputId": "cea7a945-6a6e-4d0e-b26e-9a4450c2a54b"
      },
      "source": [
        "# Or compact 1-line\r\n",
        "sum([int(num) for i, num in enumerate(number_string) if num == number_string[(i + int(len(number_string)/2)) % len(number_string)]])"
      ],
      "execution_count": null,
      "outputs": [
        {
          "output_type": "execute_result",
          "data": {
            "text/plain": [
              "1358"
            ]
          },
          "metadata": {
            "tags": []
          },
          "execution_count": 35
        }
      ]
    },
    {
      "cell_type": "code",
      "metadata": {
        "id": "QVs8zzY2Lgpz"
      },
      "source": [
        ""
      ],
      "execution_count": null,
      "outputs": []
    }
  ]
}