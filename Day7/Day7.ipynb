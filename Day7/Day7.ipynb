{
  "nbformat": 4,
  "nbformat_minor": 0,
  "metadata": {
    "colab": {
      "name": "Day7.ipynb",
      "provenance": [],
      "collapsed_sections": [],
      "toc_visible": true
    },
    "kernelspec": {
      "name": "python3",
      "display_name": "Python 3"
    }
  },
  "cells": [
    {
      "cell_type": "markdown",
      "metadata": {
        "id": "71ecngOdHt9R"
      },
      "source": [
        "# Advent of Code 2017 - Day 7"
      ]
    },
    {
      "cell_type": "code",
      "metadata": {
        "colab": {
          "base_uri": "https://localhost:8080/"
        },
        "id": "X62Yg2r5dzAf",
        "outputId": "e62ee049-a0e6-4653-f61a-79e50b1ab3d7"
      },
      "source": [
        "data = []\r\n",
        "with open('inputs_day_7.txt', 'r') as f:\r\n",
        "  for line in f:\r\n",
        "    data.append(line.strip())\r\n",
        "\r\n",
        "print(data[:10])"
      ],
      "execution_count": null,
      "outputs": [
        {
          "output_type": "stream",
          "text": [
            "['gbyvdfh (155) -> xqmnq, iyoqt, dimle', 'oweiea (97)', 'szhxrs (14)', 'pjvwsiw (23)', 'ycbok (193) -> xibkhsl, futjpq', 'wtqnsfh (32)', 'jyphghz (5573) -> tuxkm, gcprg, aabvhmt', 'fznumf (62)', 'kogwes (98)', 'sirhaf (57)']\n"
          ],
          "name": "stdout"
        }
      ]
    },
    {
      "cell_type": "code",
      "metadata": {
        "id": "eiiHzpjJrkkv"
      },
      "source": [
        "# Parse\r\n",
        "map = {}\r\n",
        "for x in data:\r\n",
        "  key = x[ : x.find(' ')]\r\n",
        "  weight = int(x[x.find('(') + 1 : x.find(')')])\r\n",
        "  above = []\r\n",
        "  if '->' in x:\r\n",
        "    above = x[x.find('>') + 2 :].split(', ')\r\n",
        "  map[key] = (weight, above)"
      ],
      "execution_count": null,
      "outputs": []
    },
    {
      "cell_type": "markdown",
      "metadata": {
        "id": "mp3jZah5GjBK"
      },
      "source": [
        "## Part 1\r\n",
        "\r\n",
        "No need to recreate the tower (tree). We can check for the program that is only mentioned once in the input. Or more robustly, find a program that is mentioned in the left hand side of a \"->\" symbol but nowhere on the right hand side. "
      ]
    },
    {
      "cell_type": "code",
      "metadata": {
        "colab": {
          "base_uri": "https://localhost:8080/"
        },
        "id": "3Xc2yL5VrOep",
        "outputId": "49b294b0-8fbf-485c-cf4f-ecca07132f2e"
      },
      "source": [
        "from itertools import chain\r\n",
        "\r\n",
        "root = None\r\n",
        "all_above_ones = list(chain(*[map[key][1] for key in map])) # Concatenation of all programs above some other program\r\n",
        "data_raw = '\\n'.join(data)\r\n",
        "for key in map:\r\n",
        "  if not key in all_above_ones:\r\n",
        "    root = key\r\n",
        "    break\r\n",
        "\r\n",
        "print(root)"
      ],
      "execution_count": null,
      "outputs": [
        {
          "output_type": "stream",
          "text": [
            "qibuqqg\n"
          ],
          "name": "stdout"
        }
      ]
    },
    {
      "cell_type": "markdown",
      "metadata": {
        "id": "xRTNxjTfG5P4"
      },
      "source": [
        "## Part 2\r\n",
        "\r\n",
        "We can use the *map* variable directly in recursion, but trees make things much more convenient."
      ]
    },
    {
      "cell_type": "code",
      "metadata": {
        "id": "2JFpp6JzwohG"
      },
      "source": [
        "class Node():\r\n",
        "  def __init__(self, name, val):\r\n",
        "    self.name = name\r\n",
        "    self.val = val\r\n",
        "    self.children = [] # A list of children (not binary)"
      ],
      "execution_count": null,
      "outputs": []
    },
    {
      "cell_type": "code",
      "metadata": {
        "id": "wWYgQchFxcIk"
      },
      "source": [
        "# Recursively build a tree\r\n",
        "# Can optionally pass in a dictionary dic to save references to each node in tree\r\n",
        "\r\n",
        "def build_tree(map, root, dic = None):\r\n",
        "  root_node = Node(root, map[root][0])\r\n",
        "  for c in map[root][1]:\r\n",
        "    child_node = build_tree(map, c, dic)\r\n",
        "    root_node.children.append(child_node)\r\n",
        "  if dic != None:\r\n",
        "    dic[root] = root_node\r\n",
        "  return root_node\r\n",
        "\r\n",
        "node_references = {}\r\n",
        "root_node = build_tree(map, root, node_references)"
      ],
      "execution_count": null,
      "outputs": []
    },
    {
      "cell_type": "code",
      "metadata": {
        "id": "7nZAYE7BXmHH"
      },
      "source": [
        "# Given a node, recursively, find all weights (its weight and recursive weight of its children)\r\n",
        "def find_cumulative_weight_above(root_node):\r\n",
        "  weight = root_node.val\r\n",
        "  for cn in root_node.children:\r\n",
        "    weight += find_cumulative_weight_above(cn)\r\n",
        "  return weight"
      ],
      "execution_count": null,
      "outputs": []
    },
    {
      "cell_type": "markdown",
      "metadata": {
        "id": "C8mgB6ie7_07"
      },
      "source": [
        "Let's first visualize the problem (the one for the example shown since the actual problem is too large)."
      ]
    },
    {
      "cell_type": "code",
      "metadata": {
        "colab": {
          "base_uri": "https://localhost:8080/",
          "height": 35
        },
        "id": "0LPClLrn79Vc",
        "outputId": "a143b85a-f582-41dd-84e5-f4d5cf80fa56"
      },
      "source": [
        "from graphviz import Digraph\r\n",
        "\r\n",
        "g = Digraph('G', filename='Tree')\r\n",
        "#g.attr('node', shape='circle')\r\n",
        "\r\n",
        "for key in map:\r\n",
        "  label = key + '\\nweight:' + str(map[key][0]) + \"\\ncum: \" + str(find_cumulative_weight_above(node_references[key]))\r\n",
        "  g.node(key, label = label )\r\n",
        "  for v in map[key][1]:\r\n",
        "    g.edge(key, v)\r\n",
        "g.view()"
      ],
      "execution_count": null,
      "outputs": [
        {
          "output_type": "execute_result",
          "data": {
            "application/vnd.google.colaboratory.intrinsic+json": {
              "type": "string"
            },
            "text/plain": [
              "'Tree.pdf'"
            ]
          },
          "metadata": {
            "tags": []
          },
          "execution_count": 7
        }
      ]
    },
    {
      "cell_type": "code",
      "metadata": {
        "colab": {
          "base_uri": "https://localhost:8080/",
          "height": 52
        },
        "id": "RRHtcAkI7VFQ",
        "outputId": "600bb898-2ef5-4dac-9fdf-3cf59690bcc1"
      },
      "source": [
        "# Given a list of neighboring nodes, recursivley find the incorrect node (assume only 1 is wrong) that leads to imbalance\r\n",
        "# Not tested throughly. It may fail for some edge cases but works for my input\r\n",
        "# Looks more complicated than it is (I will rewrite this if I get a chance)\r\n",
        "\r\n",
        "def find_wrong_node(nodes):\r\n",
        "  cumulative_weights = [find_cumulative_weight_above(n) for n in nodes]\r\n",
        "  if len(set(cumulative_weights)) > 1: # Is not balanced\r\n",
        "    # Find the one node that is causing trouble (Assumes at least three children?)\r\n",
        "    erroneous_node_weight = [w for w in cumulative_weights if cumulative_weights.count(w) == 1][0]\r\n",
        "    erroneous_node_index = cumulative_weights.index(erroneous_node_weight)\r\n",
        "    erroneous_node = nodes[erroneous_node_index]\r\n",
        "    if erroneous_node.children != []:\r\n",
        "      error = find_wrong_node(erroneous_node.children)\r\n",
        "      if not error: # if error was not found under the subtree, it must be at current level\r\n",
        "        correct_cum_val =  [w for w in cumulative_weights if cumulative_weights.count(w) != 1][0]\r\n",
        "        wrong_cum_cumulative_weight = cumulative_weights[erroneous_node_index]\r\n",
        "        diff = (correct_cum_val - wrong_cum_cumulative_weight)\r\n",
        "        print(erroneous_node.name, 'Old Value:', erroneous_node.val, 'New Value to Balance Tree (Old {}):'.format(diff), erroneous_node.val + diff)\r\n",
        "        return erroneous_node.name\r\n",
        "      return error\r\n",
        "    else: # Error found in leaf\r\n",
        "      correct_cum_val =  [w for w in cumulative_weights if cumulative_weights.count(w) != 1][0]\r\n",
        "      wrong_cum_cumulative_weight = cumulative_weights[erroneous_node_index]\r\n",
        "      diff = (correct_cum_val - wrong_cum_cumulative_weight)\r\n",
        "      print(erroneous_node.name, 'Old Value:', erroneous_node.val, 'New Value to Balance Tree (Old {}):'.format(diff), erroneous_node.val + diff)\r\n",
        "      return erroneous_node.name\r\n",
        "\r\n",
        "wrong_node = find_wrong_node(root_node.children)\r\n",
        "wrong_node"
      ],
      "execution_count": null,
      "outputs": [
        {
          "output_type": "stream",
          "text": [
            "egbzge Old Value: 1086 New Value to Balance Tree (Old -7): 1079\n"
          ],
          "name": "stdout"
        },
        {
          "output_type": "execute_result",
          "data": {
            "application/vnd.google.colaboratory.intrinsic+json": {
              "type": "string"
            },
            "text/plain": [
              "'egbzge'"
            ]
          },
          "metadata": {
            "tags": []
          },
          "execution_count": 9
        }
      ]
    }
  ]
}