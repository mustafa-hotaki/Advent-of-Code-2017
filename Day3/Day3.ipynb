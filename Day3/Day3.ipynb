{
  "nbformat": 4,
  "nbformat_minor": 0,
  "metadata": {
    "colab": {
      "name": "Day3.ipynb",
      "provenance": [],
      "collapsed_sections": []
    },
    "kernelspec": {
      "name": "python3",
      "display_name": "Python 3"
    }
  },
  "cells": [
    {
      "cell_type": "markdown",
      "metadata": {
        "id": "71ecngOdHt9R"
      },
      "source": [
        "# Advent of Code 2017 - Day 3"
      ]
    },
    {
      "cell_type": "code",
      "metadata": {
        "id": "BOAxRU4leR1V"
      },
      "source": [
        "input_value = 325489"
      ],
      "execution_count": 1,
      "outputs": []
    },
    {
      "cell_type": "markdown",
      "metadata": {
        "id": "mp3jZah5GjBK"
      },
      "source": [
        "## Part 1\r\n",
        "\r\n",
        "\r\n",
        "$$\r\n",
        "\\begin{matrix}\r\n",
        "37 & 36 & 35 & 34 & 33 & 32 & 31 \\\\\r\n",
        "38 & 17 & 16 & 15 & 14 & 13 & 30 \\\\\r\n",
        "39 & 18  & 5  & 4 & 3  & 12 & 29 \\\\\r\n",
        "40 & 19  & 6 & \\color{red}{1} & 2  & 11 & 28 \\\\\r\n",
        "41 & 20  & 7 & 8 & \\color{red}{9} & 10 & 27 \\\\\r\n",
        "42 & 21 & 22 & 23 & 24 & \\color{red}{25} & 26 \\\\\r\n",
        "43 & 44 & 45 & 46 & 47 & 48 & \\color{red}{49} & \\cdots \\\\\r\n",
        "\\end{matrix}\r\n",
        "$$\r\n",
        "\r\n",
        "\r\n",
        "A naive solution will actually create a grid, but could understanding the pattern help us find the row and column given an index in $\\Theta(1)$? I took inspiration from a similar problem I found on [Math Exchange](https://math.stackexchange.com/a/3158068).\r\n",
        "\r\n",
        "First, we make the observation, all numbers from the origin (if $1$ is assigned to the origin) following the diagonal to southeast is the sequence of odd squares (we have not proven this) $1, 9, 25, 49, 81, \\cdots$:\r\n",
        "\r\n",
        "$$\r\n",
        "f_n = (2n-1)^2\r\n",
        "$$\r\n",
        "\r\n",
        "and $f_n$ is located at the coordinates $(\\frac{(n + 1)}{2} - 1, -(\\frac{(n + 1)}{2} - 1))$ or more simply at:\r\n",
        "\r\n",
        "$$\r\n",
        "(\\frac{n-1}{2}, \\frac{1-n}{2})\r\n",
        "$$\r\n",
        "\r\n",
        "A proof for our claim that the number in the diagonal from origin in the southeast direction are odd squares could possibly be sketched by examining the number of items in concentric \"rings\".\r\n"
      ]
    },
    {
      "cell_type": "markdown",
      "metadata": {
        "id": "I291J55Tl2oI"
      },
      "source": [
        "Given that we want to find coordinates $(x(n), y(n))$ of the $n$th element, we can define $\\hat{n}$ to be the largest odd square that is less than or equal to $n$:\r\n",
        "\r\n",
        "$$\r\n",
        "\\hat n=\\max(\\{2k - 1 \\mid (2k - 1)^2\\leqslant n\\})\r\n",
        "$$\r\n",
        "\r\n",
        "The above can be reduced to:\r\n",
        "\r\n",
        "$$\r\n",
        "\\hat n=\\left\\{\r\n",
        "\\begin{array}{cl}\r\n",
        "\\lfloor \\sqrt n\\rfloor - 1 & \\mbox{if $\\lfloor \\sqrt n\\rfloor$ is even}\\\\\r\n",
        "\\lfloor \\sqrt n\\rfloor & \\mbox{if $\\lfloor \\sqrt n\\rfloor$ is odd}\r\n",
        "\\end{array}\r\n",
        "\\right.\r\n",
        "$$\r\n",
        "\r\n",
        "The number $n$ exists in the part of spiral following $\\hat{n}$ all the way but not including $(\\hat{n} + 1)^2$. We can visualize this by going back to the grid of numbers:\r\n",
        "\r\n",
        "$$\r\n",
        "\\begin{matrix}\r\n",
        "\\color{red}{\\hat{n}^2 + 2\\hat{n} + 2} & & & & & \\color{red}{\\cdots} & & & & & & \\color{red}{\\hat{n}^2 + \\hat{n} + 1} \\\\\r\n",
        "\\color{red}{\\hat{n}^2 + 2\\hat{n} + 3} & \\ddots & & & & & & & & & & \\color{red}{\\hat{n}^2 + \\hat{n}} \\\\\r\n",
        "& & 37 & 36 & 35 & 34 & 33 & 32 & 31 \\\\\r\n",
        "\\color{red}{\\vdots} & & 38 & 17 & 16 & 15 & 14 & 13 & 30 & & & \\color{red}{\\vdots} \\\\\r\n",
        "& & 39 & 18  & 5  & 4 & 3  & 12 & 29 \\\\\r\n",
        "& & 40 & 19  & 6 & 1 & 2  & 11 & 28 & & & \\color{red}{\\hat{n}^2 + \\frac{\\hat{n} + 1}{2}} \\\\\r\n",
        "& & 41 & 20  & 7 & 8 & 9 & 10 & 27 \\\\\r\n",
        "\\color{red}{\\vdots} & & 42 & 21 & 22 & 23 & 24 & 25 & 26 & & & \\color{red}{\\vdots} \\\\\r\n",
        "& & 43 & 44 & 45 & 46 & 47 & 48 & 49 \\\\\r\n",
        "& & & & & & & & & \\ddots & & \\color{red}{\\hat{n}^2 + 2} \\\\\r\n",
        "\\color{red}{\\hat{n}^2 + 3\\hat{n} + 2} & & & & & & & & & & \\color{red}{\\hat{n}^2} &\\color{red}{\\hat{n}^2 + 1} \\\\\r\n",
        "\\color{red}{\\hat{n}^2 + 3\\hat{n} + 3} & & & & & \\color{red}{\\cdots} & & & & & \\color{red}{\\hat{n}^2 + 4n + 3} & \\hat{n}^2 + 4n + 4 & \\\\\r\n",
        "\r\n",
        "\\end{matrix}\r\n",
        "$$\r\n",
        "\r\n",
        "We can then construct rules for assigning coordinates based on the value of $n$:\r\n",
        "\r\n",
        "$$\r\n",
        "(x(n),y(n))= \r\n",
        "\\left\\{\r\n",
        "\\begin{array}{cl}\r\n",
        "\r\n",
        "(\\frac{\\hat{n} - 1}{2}, \\frac{1-\\hat{n}}{2}) & \\mbox{if $\\hat n^2 = n$}\\\\\r\n",
        "\r\n",
        "(\\frac{\\hat{n} - 1}{2} + 1, \\frac{1-\\hat{n}}{2} + (n-\\hat{n}^2 - 1)) & \\mbox{if $\\hat n^2 + 1 \\leqslant n \\leqslant \\hat n^2 + \\hat n$}\\\\\r\n",
        "\r\n",
        "(\\frac{\\hat{n} - 1}{2} + 1 + (n-\\hat{n}^2 - \\hat{n}-1), \\frac{1-\\hat{n}}{2} + \\hat{n}) & \\mbox{if $\\hat n^2+\\hat n< n\\leqslant\\hat n^2+2\\hat n+1$}\\\\\r\n",
        "\r\n",
        "\r\n",
        "\r\n",
        "(\\frac{(1-\\hat{n})}{2} - 1, \\frac{\\hat{n}-1}{2} + 1 - (n - \\hat{n}^2 - 2\\hat{n} - 2)) & \\mbox{if $\\hat n^2+2\\hat n+1< n\\leqslant\\hat n^2+3\\hat n+2$}\\\\\r\n",
        "\r\n",
        "\r\n",
        "(\\frac{1-\\hat{n}}{2} + 1 + (n - \\hat{n}^2 - 3 \\hat{n} - 3), \\frac{1-\\hat{n}}{2} - 1) & \\mbox{if $\\hat n^2+3\\hat n+2< n\\leqslant\\hat n^2+4\\hat n+3$}\r\n",
        "\\end{array}\r\n",
        "\\right..\r\n",
        "$$"
      ]
    },
    {
      "cell_type": "code",
      "metadata": {
        "colab": {
          "base_uri": "https://localhost:8080/"
        },
        "id": "6aOyYWLbsxeB",
        "outputId": "589edf27-cd0a-40ff-a60b-c4f3a04abe67"
      },
      "source": [
        "import math\r\n",
        "n = 325489\r\n",
        "\r\n",
        "def find_coordinates(n):\r\n",
        "  n_hat = math.floor(math.sqrt(n)) - 1 if math.floor(math.sqrt(n)) % 2 == 0 else math.floor(math.sqrt(n)) \r\n",
        "\r\n",
        "  coordinates = None\r\n",
        "\r\n",
        "  if (n_hat ** 2) == n:\r\n",
        "    #print('Case 0')\r\n",
        "    coordinates = ((n_hat - 1) / 2, (1 - n_hat) / 2)\r\n",
        "\r\n",
        "  elif (n_hat ** 2) <= n and n <= (n_hat ** 2) + n_hat:\r\n",
        "    #print('Case 1')\r\n",
        "    coordinates = ((n_hat - 1) / 2 + 1, (1 - n_hat) / 2 + (n- n_hat**2 - 1))\r\n",
        "\r\n",
        "  elif (n_hat ** 2) + n_hat < n and n <= (n_hat ** 2) + 2 * n_hat + 1:\r\n",
        "    #print('Case 2')\r\n",
        "    coordinates = ((n_hat - 1) / 2 + 1 - (n - n_hat ** 2 - n_hat - 1), (1 - n_hat) / 2 + n_hat)\r\n",
        "\r\n",
        "  elif (n_hat ** 2) + 2 * n_hat + 1 < n and n <= (n_hat ** 2) + 3 * n_hat + 2:\r\n",
        "    #print('Case 3')\r\n",
        "    coordinates = ((1-n_hat) / 2 - 1, (n_hat - 1) / 2 + 1 - (n - n_hat ** 2-2*n_hat - 2))\r\n",
        "\r\n",
        "  elif (n_hat ** 2) + 3 * n_hat + 2 < n and n <= (n_hat ** 2) + 4 * n_hat + 3:\r\n",
        "    #print('Case 4')\r\n",
        "    coordinates = ((1-n_hat) / 2 - 1 + (n-n_hat ** 2 - 3 * n_hat - 3), (1-n_hat) / 2 - 1)\r\n",
        "\r\n",
        "  return coordinates\r\n",
        "\r\n",
        "coordinates = find_coordinates(input_value)\r\n",
        "manhattan_distance = abs(coordinates[0]) + abs(coordinates[1])\r\n",
        "print(coordinates, manhattan_distance)"
      ],
      "execution_count": 2,
      "outputs": [
        {
          "output_type": "stream",
          "text": [
            "(-267.0, -285.0) 552.0\n"
          ],
          "name": "stdout"
        }
      ]
    },
    {
      "cell_type": "markdown",
      "metadata": {
        "id": "VUHnMsdWGjs5"
      },
      "source": [
        "That's works amazingly! Let's see if we can visualize it."
      ]
    },
    {
      "cell_type": "code",
      "metadata": {
        "colab": {
          "base_uri": "https://localhost:8080/",
          "height": 428
        },
        "id": "aOJIFxLKNUBb",
        "outputId": "b09d133b-68c4-47b9-e948-0743f5490175"
      },
      "source": [
        "import matplotlib.pyplot as plt\r\n",
        "\r\n",
        "xs = []\r\n",
        "ys = []\r\n",
        "\r\n",
        "for n in range(1, 11 ** 2 + 1):\r\n",
        "  x, y = find_coordinates(n)\r\n",
        "  xs.append(x)\r\n",
        "  ys.append(y)\r\n",
        "\r\n",
        "fig, ax = plt.subplots(figsize=(7, 7))\r\n",
        "ax.scatter(xs, ys)\r\n",
        "for i, (x, y) in enumerate(zip(xs, ys)):\r\n",
        "  ax.annotate(i + 1, (x, y))\r\n",
        "plt.axis('off')\r\n"
      ],
      "execution_count": 3,
      "outputs": [
        {
          "output_type": "execute_result",
          "data": {
            "text/plain": [
              "(-5.5, 5.5, -5.5, 5.5)"
            ]
          },
          "metadata": {
            "tags": []
          },
          "execution_count": 3
        },
        {
          "output_type": "display_data",
          "data": {
            "image/png": "[encoded data removed]",
            "text/plain": [
              "<Figure size 504x504 with 1 Axes>"
            ]
          },
          "metadata": {
            "tags": [],
            "needs_background": "light"
          }
        }
      ]
    },
    {
      "cell_type": "markdown",
      "metadata": {
        "id": "xRTNxjTfG5P4"
      },
      "source": [
        "## Part 2\r\n"
      ]
    },
    {
      "cell_type": "code",
      "metadata": {
        "id": "WZQn4eI1Htvh"
      },
      "source": [
        "def find_neighbors(coordinates):\r\n",
        "\r\n",
        "  def of_bucket(buckets):\r\n",
        "    for bucket_item in buckets[0]:\r\n",
        "      if len(buckets) > 1 :\r\n",
        "        for result in of_bucket(buckets[1:]):\r\n",
        "          yield [bucket_item] + result\r\n",
        "      else:\r\n",
        "        yield [bucket_item]\r\n",
        "\r\n",
        "  buckets = [[coord - 1, coord, coord + 1] for coord in coordinates]\r\n",
        "  neighbor_locations = [tuple(comb) for comb in of_bucket(buckets) if tuple(comb) != coordinates]\r\n",
        "\r\n",
        "  return neighbor_locations"
      ],
      "execution_count": 4,
      "outputs": []
    },
    {
      "cell_type": "code",
      "metadata": {
        "colab": {
          "base_uri": "https://localhost:8080/"
        },
        "id": "fVuxTgrlHepK",
        "outputId": "2950673d-55e6-4397-99fe-6f616e61c7be"
      },
      "source": [
        "map = {}\r\n",
        "map[(0, 0)] = 1\r\n",
        "sequence = [1]\r\n",
        "counter = 2\r\n",
        "while(True):\r\n",
        "\r\n",
        "  coordinates = find_coordinates(counter)\r\n",
        "  neighbors = find_neighbors(coordinates)\r\n",
        "\r\n",
        "  sum_prev = 0\r\n",
        "  for neighbor in neighbors:\r\n",
        "    if neighbor in map:\r\n",
        "      sum_prev += map[neighbor]\r\n",
        "\r\n",
        "  map[coordinates] = sum_prev\r\n",
        "  sequence.append(sum_prev)\r\n",
        "\r\n",
        "  counter += 1\r\n",
        "\r\n",
        "  if sum_prev > input_value:\r\n",
        "    print(sum_prev)\r\n",
        "    break\r\n"
      ],
      "execution_count": 5,
      "outputs": [
        {
          "output_type": "stream",
          "text": [
            "330785\n"
          ],
          "name": "stdout"
        }
      ]
    },
    {
      "cell_type": "markdown",
      "metadata": {
        "id": "wsuKK7u6Hg3b"
      },
      "source": [
        "Someone on [Reddit](https://www.reddit.com/r/adventofcode/comments/7h7ufl/2017_day_3_solutions/dqovogc?utm_source=share&utm_medium=web2x&context=3) noticed that this sequence was on the [The On-Line Encyclopedia of Integer Sequences](https://oeis.org/A141481) (OEIS). This answer matches the one we found.\r\n",
        "\r\n"
      ]
    },
    {
      "cell_type": "code",
      "metadata": {
        "id": "F7KNJwLO_vHx",
        "colab": {
          "base_uri": "https://localhost:8080/"
        },
        "outputId": "aeacfd50-202c-4817-c098-fd95cf3a29ad"
      },
      "source": [
        "data = []\r\n",
        "with open('b141481.txt', 'r') as f:\r\n",
        "  for line in f:\r\n",
        "    data.append(line.strip())\r\n",
        "\r\n",
        "sequence = [int(x.split()[1]) for x in data[2: -7]]\r\n",
        "for x in sequence:\r\n",
        "  if x > input_value:\r\n",
        "    print(x)\r\n",
        "    break"
      ],
      "execution_count": 6,
      "outputs": [
        {
          "output_type": "stream",
          "text": [
            "330785\n"
          ],
          "name": "stdout"
        }
      ]
    },
    {
      "cell_type": "code",
      "metadata": {
        "id": "diorvnEotrNU"
      },
      "source": [
        ""
      ],
      "execution_count": 6,
      "outputs": []
    }
  ]
}