{
  "nbformat": 4,
  "nbformat_minor": 0,
  "metadata": {
    "colab": {
      "name": "Day5.ipynb",
      "provenance": [],
      "collapsed_sections": [],
      "toc_visible": true
    },
    "kernelspec": {
      "name": "python3",
      "display_name": "Python 3"
    }
  },
  "cells": [
    {
      "cell_type": "markdown",
      "metadata": {
        "id": "71ecngOdHt9R"
      },
      "source": [
        "# Advent of Code 2017 - Day 3"
      ]
    },
    {
      "cell_type": "code",
      "metadata": {
        "colab": {
          "base_uri": "https://localhost:8080/"
        },
        "id": "X62Yg2r5dzAf",
        "outputId": "56d44198-9a06-4b2c-fc8d-9df7c0a477cc"
      },
      "source": [
        "data = []\r\n",
        "with open('inputs_day_5.txt', 'r') as f:\r\n",
        "  for line in f:\r\n",
        "    data.append(int(line.strip()))\r\n",
        "\r\n",
        "print(data[:10])"
      ],
      "execution_count": null,
      "outputs": [
        {
          "output_type": "stream",
          "text": [
            "[2, 0, -1, 0, -2, -2, 0, -5, -6, 1]\n"
          ],
          "name": "stdout"
        }
      ]
    },
    {
      "cell_type": "markdown",
      "metadata": {
        "id": "mp3jZah5GjBK"
      },
      "source": [
        "## Part 1\r\n"
      ]
    },
    {
      "cell_type": "code",
      "metadata": {
        "id": "hdplf0YvSEs0",
        "colab": {
          "base_uri": "https://localhost:8080/"
        },
        "outputId": "21646322-31ee-4569-c356-cb488a4de2e4"
      },
      "source": [
        "import time\r\n",
        "\r\n",
        "start_time = time.time()\r\n",
        "\r\n",
        "jumps = [x for x in data]\r\n",
        "steps = 0\r\n",
        "program_counter = 0\r\n",
        "while(program_counter in range(len(jumps))):\r\n",
        "  #print(*jumps[:program_counter], '(' + str(jumps[program_counter]) + ')', *jumps[program_counter + 1:])\r\n",
        "  offset = jumps[program_counter]\r\n",
        "  jumps[program_counter] += 1\r\n",
        "  program_counter += offset\r\n",
        "  steps += 1\r\n",
        "\r\n",
        "print(steps)\r\n",
        "\r\n",
        "print(\"\\nExecution completed in {} seconds\".format(time.time() - start_time))"
      ],
      "execution_count": null,
      "outputs": [
        {
          "output_type": "stream",
          "text": [
            "396086\n",
            "\n",
            "Execution completed in 0.31214141845703125 seconds\n"
          ],
          "name": "stdout"
        }
      ]
    },
    {
      "cell_type": "markdown",
      "metadata": {
        "id": "xRTNxjTfG5P4"
      },
      "source": [
        "## Part 2\r\n",
        "\r\n",
        "Description: Now, the jumps are even stranger: after each jump, if the offset was three or more, instead decrease it by 1. Otherwise, increase it by 1 as before.\r\n",
        "\r\n",
        "It take more than ~$20$ seconds. I cannot think of a simple optimization to speed things up.\r\n"
      ]
    },
    {
      "cell_type": "code",
      "metadata": {
        "id": "iPbvWlYYPfMo",
        "colab": {
          "base_uri": "https://localhost:8080/"
        },
        "outputId": "7d9b16be-2e8c-42f0-e2af-03082001e026"
      },
      "source": [
        "import time\r\n",
        "\r\n",
        "start_time = time.time()\r\n",
        "\r\n",
        "jumps = [x for x in data]\r\n",
        "steps = 0\r\n",
        "program_counter = 0\r\n",
        "while(program_counter in range(len(jumps))):\r\n",
        "  #print(*jumps[:program_counter], '(' + str(jumps[program_counter]) + ')', *jumps[program_counter + 1:])\r\n",
        "  offset = jumps[program_counter]\r\n",
        "  jumps[program_counter] += -1 if offset >= 3 else 1\r\n",
        "  program_counter += offset\r\n",
        "  steps += 1\r\n",
        "\r\n",
        "print(steps)\r\n",
        "\r\n",
        "print(\"\\nExecution completed in {} seconds\".format(time.time() - start_time))"
      ],
      "execution_count": null,
      "outputs": [
        {
          "output_type": "stream",
          "text": [
            "28675390\n",
            "\n",
            "Execution completed in 21.11567187309265 seconds\n"
          ],
          "name": "stdout"
        }
      ]
    },
    {
      "cell_type": "code",
      "metadata": {
        "id": "1u5u8vh8iJ-c"
      },
      "source": [
        ""
      ],
      "execution_count": null,
      "outputs": []
    }
  ]
}