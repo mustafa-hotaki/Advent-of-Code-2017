{
  "nbformat": 4,
  "nbformat_minor": 0,
  "metadata": {
    "colab": {
      "name": "Day6.ipynb",
      "provenance": [],
      "collapsed_sections": [],
      "toc_visible": true
    },
    "kernelspec": {
      "name": "python3",
      "display_name": "Python 3"
    }
  },
  "cells": [
    {
      "cell_type": "markdown",
      "metadata": {
        "id": "71ecngOdHt9R"
      },
      "source": [
        "# Advent of Code 2017 - Day 3"
      ]
    },
    {
      "cell_type": "code",
      "metadata": {
        "colab": {
          "base_uri": "https://localhost:8080/"
        },
        "id": "X62Yg2r5dzAf",
        "outputId": "6589a8c2-1308-4331-b8f1-384dea097806"
      },
      "source": [
        "data = []\r\n",
        "with open('inputs_day_6.txt', 'r') as f:\r\n",
        "  for line in f:\r\n",
        "    data.append(line.strip())\r\n",
        "\r\n",
        "data"
      ],
      "execution_count": 1,
      "outputs": [
        {
          "output_type": "execute_result",
          "data": {
            "text/plain": [
              "['10\\t3\\t15\\t10\\t5\\t15\\t5\\t15\\t9\\t2\\t5\\t8\\t5\\t2\\t3\\t6']"
            ]
          },
          "metadata": {
            "tags": []
          },
          "execution_count": 1
        }
      ]
    },
    {
      "cell_type": "code",
      "metadata": {
        "colab": {
          "base_uri": "https://localhost:8080/"
        },
        "id": "w_A_BUVWWXiY",
        "outputId": "efeced17-a5ea-45de-da8e-f0c96c89db4b"
      },
      "source": [
        "# Parse\r\n",
        "initial_banks_block_counts = [int(x) for x in data[0].split('\\t')]\r\n",
        "print(initial_banks_block_counts)"
      ],
      "execution_count": 2,
      "outputs": [
        {
          "output_type": "stream",
          "text": [
            "[10, 3, 15, 10, 5, 15, 5, 15, 9, 2, 5, 8, 5, 2, 3, 6]\n"
          ],
          "name": "stdout"
        }
      ]
    },
    {
      "cell_type": "markdown",
      "metadata": {
        "id": "mp3jZah5GjBK"
      },
      "source": [
        "## Part 1"
      ]
    },
    {
      "cell_type": "code",
      "metadata": {
        "colab": {
          "base_uri": "https://localhost:8080/"
        },
        "id": "FLYydgQLWUNU",
        "outputId": "1f27da55-b843-4048-9f97-3a47e42a77c1"
      },
      "source": [
        "banks_block_counts = initial_banks_block_counts # Not included in the seen_before?\r\n",
        "\r\n",
        "seen_before = []\r\n",
        "\r\n",
        "count = 0\r\n",
        "while(True):\r\n",
        "  max_bank_block_count = max(banks_block_counts)\r\n",
        "  max_bank_index = banks_block_counts.index(max_bank_block_count)\r\n",
        "  banks_block_counts[max_bank_index] = 0 # Remove block from bank with max blocks\r\n",
        "\r\n",
        "  remaining = max_bank_block_count\r\n",
        "  index = max_bank_index + 1\r\n",
        "  while(remaining):\r\n",
        "    remaining -= 1\r\n",
        "    banks_block_counts[index % len(banks_block_counts)] += 1\r\n",
        "    index += 1\r\n",
        "  \r\n",
        "  count += 1\r\n",
        "\r\n",
        "  #print(banks_block_counts)\r\n",
        "\r\n",
        "  if tuple(banks_block_counts) in seen_before:\r\n",
        "    print(count, tuple(banks_block_counts))\r\n",
        "    break\r\n",
        "  else:\r\n",
        "    seen_before.append(tuple(banks_block_counts))\r\n"
      ],
      "execution_count": 3,
      "outputs": [
        {
          "output_type": "stream",
          "text": [
            "14029 (1, 1, 0, 15, 14, 13, 12, 10, 10, 9, 8, 7, 6, 4, 3, 5)\n"
          ],
          "name": "stdout"
        }
      ]
    },
    {
      "cell_type": "markdown",
      "metadata": {
        "id": "90WMnuDmaCut"
      },
      "source": [
        "## Part 2"
      ]
    },
    {
      "cell_type": "code",
      "metadata": {
        "colab": {
          "base_uri": "https://localhost:8080/"
        },
        "id": "E3awi8HvZ_-W",
        "outputId": "da3092f0-3593-4677-b97f-83be8620f4a6"
      },
      "source": [
        "count - seen_before.index(tuple(banks_block_counts)) - 1"
      ],
      "execution_count": 4,
      "outputs": [
        {
          "output_type": "execute_result",
          "data": {
            "text/plain": [
              "2765"
            ]
          },
          "metadata": {
            "tags": []
          },
          "execution_count": 4
        }
      ]
    }
  ]
}